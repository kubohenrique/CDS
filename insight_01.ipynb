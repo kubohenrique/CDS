{
 "cells": [
  {
   "cell_type": "markdown",
   "id": "35ca2780",
   "metadata": {
    "ExecuteTime": {
     "end_time": "2022-08-25T12:10:01.840559Z",
     "start_time": "2022-08-25T12:10:01.837270Z"
    }
   },
   "source": [
    "# HOUSE ROCKET"
   ]
  },
  {
   "cell_type": "markdown",
   "id": "7abde58b",
   "metadata": {},
   "source": [
    "## PROJETO DE INSIGHTS"
   ]
  },
  {
   "cell_type": "markdown",
   "id": "8fd83d68",
   "metadata": {},
   "source": [
    "* Objetivo: Gerar insights através da análise e manipulação dos dados para auxiliar na tomada de decisão (Compra e venda) pelo time de negócio."
   ]
  },
  {
   "cell_type": "markdown",
   "id": "3e179e04",
   "metadata": {},
   "source": [
    "### Questão de Negócio"
   ]
  },
  {
   "cell_type": "markdown",
   "id": "e9688d2c",
   "metadata": {},
   "source": [
    "Vamos responder as seguintes questões:\n",
    "\n",
    "1. Quais são os imóveis que a House Rocket deveria comprar e por qual preço ?\n",
    "2. Uma vez a casa comprada, qual o melhor momento para vendê-las e por qual preço ?\n",
    "\n",
    "Partirei da premissa de comprar casas com valor menor que a mediana de cada região."
   ]
  },
  {
   "cell_type": "markdown",
   "id": "6064749c",
   "metadata": {},
   "source": [
    "## 0.0 - Library"
   ]
  },
  {
   "cell_type": "code",
   "execution_count": 1,
   "id": "3cf36255",
   "metadata": {
    "ExecuteTime": {
     "end_time": "2022-10-27T19:01:17.184519Z",
     "start_time": "2022-10-27T19:01:13.879833Z"
    }
   },
   "outputs": [],
   "source": [
    "import pandas as pd\n",
    "import numpy as np\n",
    "\n",
    "import matplotlib.pyplot as plt\n",
    "import seaborn as sns\n",
    "\n",
    "import time\n",
    "import csv\n",
    "\n",
    "from multiprocessing import Pool\n",
    "\n",
    "from matplotlib import gridspec\n",
    "from IPython.core.display import HTML\n",
    "\n",
    "pd.set_option('display.float_format', lambda x: '%.2f' % x)"
   ]
  },
  {
   "cell_type": "markdown",
   "id": "25b249df",
   "metadata": {},
   "source": [
    "## 0.1 - Data"
   ]
  },
  {
   "cell_type": "code",
   "execution_count": 2,
   "id": "6af7f0cc",
   "metadata": {
    "ExecuteTime": {
     "end_time": "2022-10-27T19:01:17.254089Z",
     "start_time": "2022-10-27T19:01:17.187230Z"
    }
   },
   "outputs": [],
   "source": [
    "data = pd.read_csv('datasets/kc_house_data.csv')"
   ]
  },
  {
   "cell_type": "code",
   "execution_count": 3,
   "id": "35681dee",
   "metadata": {
    "ExecuteTime": {
     "end_time": "2022-10-27T19:01:17.279535Z",
     "start_time": "2022-10-27T19:01:17.256514Z"
    }
   },
   "outputs": [
    {
     "data": {
      "text/html": [
       "<div>\n",
       "<style scoped>\n",
       "    .dataframe tbody tr th:only-of-type {\n",
       "        vertical-align: middle;\n",
       "    }\n",
       "\n",
       "    .dataframe tbody tr th {\n",
       "        vertical-align: top;\n",
       "    }\n",
       "\n",
       "    .dataframe thead th {\n",
       "        text-align: right;\n",
       "    }\n",
       "</style>\n",
       "<table border=\"1\" class=\"dataframe\">\n",
       "  <thead>\n",
       "    <tr style=\"text-align: right;\">\n",
       "      <th></th>\n",
       "      <th>id</th>\n",
       "      <th>date</th>\n",
       "      <th>price</th>\n",
       "      <th>bedrooms</th>\n",
       "      <th>bathrooms</th>\n",
       "      <th>sqft_living</th>\n",
       "      <th>sqft_lot</th>\n",
       "      <th>floors</th>\n",
       "      <th>waterfront</th>\n",
       "      <th>view</th>\n",
       "      <th>...</th>\n",
       "      <th>grade</th>\n",
       "      <th>sqft_above</th>\n",
       "      <th>sqft_basement</th>\n",
       "      <th>yr_built</th>\n",
       "      <th>yr_renovated</th>\n",
       "      <th>zipcode</th>\n",
       "      <th>lat</th>\n",
       "      <th>long</th>\n",
       "      <th>sqft_living15</th>\n",
       "      <th>sqft_lot15</th>\n",
       "    </tr>\n",
       "  </thead>\n",
       "  <tbody>\n",
       "    <tr>\n",
       "      <th>0</th>\n",
       "      <td>7129300520</td>\n",
       "      <td>20141013T000000</td>\n",
       "      <td>221900.00</td>\n",
       "      <td>3</td>\n",
       "      <td>1.00</td>\n",
       "      <td>1180</td>\n",
       "      <td>5650</td>\n",
       "      <td>1.00</td>\n",
       "      <td>0</td>\n",
       "      <td>0</td>\n",
       "      <td>...</td>\n",
       "      <td>7</td>\n",
       "      <td>1180</td>\n",
       "      <td>0</td>\n",
       "      <td>1955</td>\n",
       "      <td>0</td>\n",
       "      <td>98178</td>\n",
       "      <td>47.51</td>\n",
       "      <td>-122.26</td>\n",
       "      <td>1340</td>\n",
       "      <td>5650</td>\n",
       "    </tr>\n",
       "    <tr>\n",
       "      <th>1</th>\n",
       "      <td>6414100192</td>\n",
       "      <td>20141209T000000</td>\n",
       "      <td>538000.00</td>\n",
       "      <td>3</td>\n",
       "      <td>2.25</td>\n",
       "      <td>2570</td>\n",
       "      <td>7242</td>\n",
       "      <td>2.00</td>\n",
       "      <td>0</td>\n",
       "      <td>0</td>\n",
       "      <td>...</td>\n",
       "      <td>7</td>\n",
       "      <td>2170</td>\n",
       "      <td>400</td>\n",
       "      <td>1951</td>\n",
       "      <td>1991</td>\n",
       "      <td>98125</td>\n",
       "      <td>47.72</td>\n",
       "      <td>-122.32</td>\n",
       "      <td>1690</td>\n",
       "      <td>7639</td>\n",
       "    </tr>\n",
       "    <tr>\n",
       "      <th>2</th>\n",
       "      <td>5631500400</td>\n",
       "      <td>20150225T000000</td>\n",
       "      <td>180000.00</td>\n",
       "      <td>2</td>\n",
       "      <td>1.00</td>\n",
       "      <td>770</td>\n",
       "      <td>10000</td>\n",
       "      <td>1.00</td>\n",
       "      <td>0</td>\n",
       "      <td>0</td>\n",
       "      <td>...</td>\n",
       "      <td>6</td>\n",
       "      <td>770</td>\n",
       "      <td>0</td>\n",
       "      <td>1933</td>\n",
       "      <td>0</td>\n",
       "      <td>98028</td>\n",
       "      <td>47.74</td>\n",
       "      <td>-122.23</td>\n",
       "      <td>2720</td>\n",
       "      <td>8062</td>\n",
       "    </tr>\n",
       "    <tr>\n",
       "      <th>3</th>\n",
       "      <td>2487200875</td>\n",
       "      <td>20141209T000000</td>\n",
       "      <td>604000.00</td>\n",
       "      <td>4</td>\n",
       "      <td>3.00</td>\n",
       "      <td>1960</td>\n",
       "      <td>5000</td>\n",
       "      <td>1.00</td>\n",
       "      <td>0</td>\n",
       "      <td>0</td>\n",
       "      <td>...</td>\n",
       "      <td>7</td>\n",
       "      <td>1050</td>\n",
       "      <td>910</td>\n",
       "      <td>1965</td>\n",
       "      <td>0</td>\n",
       "      <td>98136</td>\n",
       "      <td>47.52</td>\n",
       "      <td>-122.39</td>\n",
       "      <td>1360</td>\n",
       "      <td>5000</td>\n",
       "    </tr>\n",
       "    <tr>\n",
       "      <th>4</th>\n",
       "      <td>1954400510</td>\n",
       "      <td>20150218T000000</td>\n",
       "      <td>510000.00</td>\n",
       "      <td>3</td>\n",
       "      <td>2.00</td>\n",
       "      <td>1680</td>\n",
       "      <td>8080</td>\n",
       "      <td>1.00</td>\n",
       "      <td>0</td>\n",
       "      <td>0</td>\n",
       "      <td>...</td>\n",
       "      <td>8</td>\n",
       "      <td>1680</td>\n",
       "      <td>0</td>\n",
       "      <td>1987</td>\n",
       "      <td>0</td>\n",
       "      <td>98074</td>\n",
       "      <td>47.62</td>\n",
       "      <td>-122.05</td>\n",
       "      <td>1800</td>\n",
       "      <td>7503</td>\n",
       "    </tr>\n",
       "  </tbody>\n",
       "</table>\n",
       "<p>5 rows × 21 columns</p>\n",
       "</div>"
      ],
      "text/plain": [
       "           id             date     price  bedrooms  bathrooms  sqft_living  \\\n",
       "0  7129300520  20141013T000000 221900.00         3       1.00         1180   \n",
       "1  6414100192  20141209T000000 538000.00         3       2.25         2570   \n",
       "2  5631500400  20150225T000000 180000.00         2       1.00          770   \n",
       "3  2487200875  20141209T000000 604000.00         4       3.00         1960   \n",
       "4  1954400510  20150218T000000 510000.00         3       2.00         1680   \n",
       "\n",
       "   sqft_lot  floors  waterfront  view  ...  grade  sqft_above  sqft_basement  \\\n",
       "0      5650    1.00           0     0  ...      7        1180              0   \n",
       "1      7242    2.00           0     0  ...      7        2170            400   \n",
       "2     10000    1.00           0     0  ...      6         770              0   \n",
       "3      5000    1.00           0     0  ...      7        1050            910   \n",
       "4      8080    1.00           0     0  ...      8        1680              0   \n",
       "\n",
       "   yr_built  yr_renovated  zipcode   lat    long  sqft_living15  sqft_lot15  \n",
       "0      1955             0    98178 47.51 -122.26           1340        5650  \n",
       "1      1951          1991    98125 47.72 -122.32           1690        7639  \n",
       "2      1933             0    98028 47.74 -122.23           2720        8062  \n",
       "3      1965             0    98136 47.52 -122.39           1360        5000  \n",
       "4      1987             0    98074 47.62 -122.05           1800        7503  \n",
       "\n",
       "[5 rows x 21 columns]"
      ]
     },
     "execution_count": 3,
     "metadata": {},
     "output_type": "execute_result"
    }
   ],
   "source": [
    "data.head()"
   ]
  },
  {
   "cell_type": "markdown",
   "id": "586f94b2",
   "metadata": {},
   "source": [
    "### 0.3 - FUNCTIONS"
   ]
  },
  {
   "cell_type": "code",
   "execution_count": 4,
   "id": "02bbfdea",
   "metadata": {
    "ExecuteTime": {
     "end_time": "2022-10-27T19:01:17.311571Z",
     "start_time": "2022-10-27T19:01:17.281591Z"
    }
   },
   "outputs": [
    {
     "name": "stdout",
     "output_type": "stream",
     "text": [
      "Populating the interactive namespace from numpy and matplotlib\n"
     ]
    },
    {
     "data": {
      "text/html": [
       "<style>.container{width:100% !important;}</style>"
      ],
      "text/plain": [
       "<IPython.core.display.HTML object>"
      ]
     },
     "metadata": {},
     "output_type": "display_data"
    }
   ],
   "source": [
    "def jupyter_settings():\n",
    "    %matplotlib inline\n",
    "    %pylab inline\n",
    "    plt.style.use('bmh')\n",
    "    plt.rcParams['figure.figsize'] = [20,12]\n",
    "    plt.rcParams['font.size'] = 24\n",
    "    display(HTML('<style>.container{width:100% !important;}</style>'))\n",
    "    pd.options.display.max_columns = None\n",
    "    pd.options.display.max_rows = None\n",
    "    pd.set_option('display.expand_frame_repr', False)\n",
    "    sns.set()\n",
    "    \n",
    "jupyter_settings()\n",
    "\n",
    "def selecionar(data):\n",
    "    \n",
    "    for i in data.index:\n",
    "        if ((data.loc[i, 'price'] < data.loc[i, 'price_median']) & (data.loc[i, 'condition'] >= 3)):\n",
    "            data.loc[i,'status'] = 'BUY'\n",
    "        else:\n",
    "            data.loc[i,'status'] = 'DO NOT BUY'\n",
    "        \n",
    "    return None\n",
    "\n",
    "def hipo2(data):\n",
    "    data['ano'] = data['yr_built'].apply(lambda x: '> 1955' if x < 1955 else '< 1955')\n",
    "    \n",
    "    h2 = data[['ano','price']].groupby('ano').mean().reset_index()\n",
    "\n",
    "    return h2\n",
    "\n",
    "def hipo3(data):\n",
    "    data['porao'] = data['sqft_basement'].apply(lambda x: 'nao' if x == 0 else 'sim')\n",
    "    h3 = data[['porao', 'sqft_lot', 'price']].groupby('porao').mean().reset_index()\n",
    "    x3 = ((h3.iloc[0,1]-h3.iloc[1,1])/h3.iloc[1,1])*100\n",
    "    return x3\n",
    "\n",
    "def hipo4(data):\n",
    "    data['reforma'] = data['yr_renovated'].apply(lambda x: 'nao' if x == 0 else 'sim')\n",
    "    h4 = data[['price', 'reforma']].groupby('reforma').mean().reset_index()\n",
    "    x4 = ((h4.iloc[0,1]-h4.iloc[1,1])/h4.iloc[1,1])*100\n",
    "    return x4\n",
    "\n",
    "def hipo5(data):\n",
    "    data['banheiro'] = data['bathrooms'].apply(lambda x: '0-3' if (x > 0) & (x < 3) else\n",
    "                                         '3-5' if (x > 3) & (x < 5) else '5-8')\n",
    "    h5 = data[['banheiro', 'price']].groupby('banheiro').mean().reset_index()\n",
    "    x5 = ((h5.iloc[1,1]-h5.iloc[0,1])/h5.iloc[0,1])*100\n",
    "    x51 = ((h5.iloc[2,1]-h5.iloc[0,1])/h5.iloc[0,1])*100\n",
    "    \n",
    "    return x5, x51\n",
    "\n",
    "def hipo6(data):\n",
    "    data['quartos'] = data['bedrooms'].apply(lambda x: '0-3' if (x > 0) & (x <= 3) else\n",
    "                                      '3-5' if (x > 3) & (x <= 5) else \n",
    "                                      '5-8' if (x > 5) & (x <= 8) else '8-11' ) \n",
    "    h6 = data[['quartos', 'price']].groupby('quartos').mean().reset_index()\n",
    "    \n",
    "    return h6"
   ]
  },
  {
   "cell_type": "markdown",
   "id": "5ee0ec2b",
   "metadata": {},
   "source": [
    "## 1.0 - LIMPEZA E TRANSFORMAÇÃO DOS DADOS"
   ]
  },
  {
   "cell_type": "markdown",
   "id": "473d4fb1",
   "metadata": {},
   "source": [
    "Primeiro irei agrupar os dados por região (Zipcode) e tirar a mediana de preços por região, dessa maneira, a comparação de preços será mais acertada."
   ]
  },
  {
   "cell_type": "code",
   "execution_count": 5,
   "id": "91e10f5e",
   "metadata": {
    "ExecuteTime": {
     "end_time": "2022-10-27T19:01:17.323225Z",
     "start_time": "2022-10-27T19:01:17.313135Z"
    }
   },
   "outputs": [],
   "source": [
    "df = data[['zipcode', 'price']].groupby('zipcode').median().reset_index()"
   ]
  },
  {
   "cell_type": "code",
   "execution_count": 6,
   "id": "88d4617f",
   "metadata": {
    "ExecuteTime": {
     "end_time": "2022-10-27T19:01:17.349060Z",
     "start_time": "2022-10-27T19:01:17.324937Z"
    }
   },
   "outputs": [],
   "source": [
    "df2 = pd.merge(data, df, on='zipcode', how='inner')"
   ]
  },
  {
   "cell_type": "code",
   "execution_count": 7,
   "id": "0cdedc6d",
   "metadata": {
    "ExecuteTime": {
     "end_time": "2022-10-27T19:01:17.354844Z",
     "start_time": "2022-10-27T19:01:17.351105Z"
    }
   },
   "outputs": [],
   "source": [
    "df2.columns = ['id', 'date', 'price', 'bedrooms', 'bathrooms', 'sqft_living',\n",
    "       'sqft_lot', 'floors', 'waterfront', 'view', 'condition', 'grade',\n",
    "       'sqft_above', 'sqft_basement', 'yr_built', 'yr_renovated', 'zipcode',\n",
    "       'lat', 'long', 'sqft_living15', 'sqft_lot15', 'price_median']"
   ]
  },
  {
   "cell_type": "code",
   "execution_count": 8,
   "id": "10feb31f",
   "metadata": {
    "ExecuteTime": {
     "end_time": "2022-10-27T19:01:17.368631Z",
     "start_time": "2022-10-27T19:01:17.359555Z"
    }
   },
   "outputs": [],
   "source": [
    "df2['date'] = pd.to_datetime(df2['date'], format='%Y-%m-%d')"
   ]
  },
  {
   "cell_type": "code",
   "execution_count": 9,
   "id": "6dde59e7",
   "metadata": {
    "ExecuteTime": {
     "end_time": "2022-10-27T19:01:17.440997Z",
     "start_time": "2022-10-27T19:01:17.372352Z"
    }
   },
   "outputs": [
    {
     "data": {
      "text/html": [
       "<div>\n",
       "<style scoped>\n",
       "    .dataframe tbody tr th:only-of-type {\n",
       "        vertical-align: middle;\n",
       "    }\n",
       "\n",
       "    .dataframe tbody tr th {\n",
       "        vertical-align: top;\n",
       "    }\n",
       "\n",
       "    .dataframe thead th {\n",
       "        text-align: right;\n",
       "    }\n",
       "</style>\n",
       "<table border=\"1\" class=\"dataframe\">\n",
       "  <thead>\n",
       "    <tr style=\"text-align: right;\">\n",
       "      <th></th>\n",
       "      <th>id</th>\n",
       "      <th>price</th>\n",
       "      <th>bedrooms</th>\n",
       "      <th>bathrooms</th>\n",
       "      <th>sqft_living</th>\n",
       "      <th>sqft_lot</th>\n",
       "      <th>floors</th>\n",
       "      <th>waterfront</th>\n",
       "      <th>view</th>\n",
       "      <th>condition</th>\n",
       "      <th>grade</th>\n",
       "      <th>sqft_above</th>\n",
       "      <th>sqft_basement</th>\n",
       "      <th>yr_built</th>\n",
       "      <th>yr_renovated</th>\n",
       "      <th>zipcode</th>\n",
       "      <th>lat</th>\n",
       "      <th>long</th>\n",
       "      <th>sqft_living15</th>\n",
       "      <th>sqft_lot15</th>\n",
       "      <th>price_median</th>\n",
       "    </tr>\n",
       "  </thead>\n",
       "  <tbody>\n",
       "    <tr>\n",
       "      <th>count</th>\n",
       "      <td>21613.00</td>\n",
       "      <td>21613.00</td>\n",
       "      <td>21613.00</td>\n",
       "      <td>21613.00</td>\n",
       "      <td>21613.00</td>\n",
       "      <td>21613.00</td>\n",
       "      <td>21613.00</td>\n",
       "      <td>21613.00</td>\n",
       "      <td>21613.00</td>\n",
       "      <td>21613.00</td>\n",
       "      <td>21613.00</td>\n",
       "      <td>21613.00</td>\n",
       "      <td>21613.00</td>\n",
       "      <td>21613.00</td>\n",
       "      <td>21613.00</td>\n",
       "      <td>21613.00</td>\n",
       "      <td>21613.00</td>\n",
       "      <td>21613.00</td>\n",
       "      <td>21613.00</td>\n",
       "      <td>21613.00</td>\n",
       "      <td>21613.00</td>\n",
       "    </tr>\n",
       "    <tr>\n",
       "      <th>mean</th>\n",
       "      <td>4580301520.86</td>\n",
       "      <td>540088.14</td>\n",
       "      <td>3.37</td>\n",
       "      <td>2.11</td>\n",
       "      <td>2079.90</td>\n",
       "      <td>15106.97</td>\n",
       "      <td>1.49</td>\n",
       "      <td>0.01</td>\n",
       "      <td>0.23</td>\n",
       "      <td>3.41</td>\n",
       "      <td>7.66</td>\n",
       "      <td>1788.39</td>\n",
       "      <td>291.51</td>\n",
       "      <td>1971.01</td>\n",
       "      <td>84.40</td>\n",
       "      <td>98077.94</td>\n",
       "      <td>47.56</td>\n",
       "      <td>-122.21</td>\n",
       "      <td>1986.55</td>\n",
       "      <td>12768.46</td>\n",
       "      <td>485863.94</td>\n",
       "    </tr>\n",
       "    <tr>\n",
       "      <th>std</th>\n",
       "      <td>2876565571.31</td>\n",
       "      <td>367127.20</td>\n",
       "      <td>0.93</td>\n",
       "      <td>0.77</td>\n",
       "      <td>918.44</td>\n",
       "      <td>41420.51</td>\n",
       "      <td>0.54</td>\n",
       "      <td>0.09</td>\n",
       "      <td>0.77</td>\n",
       "      <td>0.65</td>\n",
       "      <td>1.18</td>\n",
       "      <td>828.09</td>\n",
       "      <td>442.58</td>\n",
       "      <td>29.37</td>\n",
       "      <td>401.68</td>\n",
       "      <td>53.51</td>\n",
       "      <td>0.14</td>\n",
       "      <td>0.14</td>\n",
       "      <td>685.39</td>\n",
       "      <td>27304.18</td>\n",
       "      <td>196658.61</td>\n",
       "    </tr>\n",
       "    <tr>\n",
       "      <th>min</th>\n",
       "      <td>1000102.00</td>\n",
       "      <td>75000.00</td>\n",
       "      <td>0.00</td>\n",
       "      <td>0.00</td>\n",
       "      <td>290.00</td>\n",
       "      <td>520.00</td>\n",
       "      <td>1.00</td>\n",
       "      <td>0.00</td>\n",
       "      <td>0.00</td>\n",
       "      <td>1.00</td>\n",
       "      <td>1.00</td>\n",
       "      <td>290.00</td>\n",
       "      <td>0.00</td>\n",
       "      <td>1900.00</td>\n",
       "      <td>0.00</td>\n",
       "      <td>98001.00</td>\n",
       "      <td>47.16</td>\n",
       "      <td>-122.52</td>\n",
       "      <td>399.00</td>\n",
       "      <td>651.00</td>\n",
       "      <td>235000.00</td>\n",
       "    </tr>\n",
       "    <tr>\n",
       "      <th>25%</th>\n",
       "      <td>2123049194.00</td>\n",
       "      <td>321950.00</td>\n",
       "      <td>3.00</td>\n",
       "      <td>1.75</td>\n",
       "      <td>1427.00</td>\n",
       "      <td>5040.00</td>\n",
       "      <td>1.00</td>\n",
       "      <td>0.00</td>\n",
       "      <td>0.00</td>\n",
       "      <td>3.00</td>\n",
       "      <td>7.00</td>\n",
       "      <td>1190.00</td>\n",
       "      <td>0.00</td>\n",
       "      <td>1951.00</td>\n",
       "      <td>0.00</td>\n",
       "      <td>98033.00</td>\n",
       "      <td>47.47</td>\n",
       "      <td>-122.33</td>\n",
       "      <td>1490.00</td>\n",
       "      <td>5100.00</td>\n",
       "      <td>335000.00</td>\n",
       "    </tr>\n",
       "    <tr>\n",
       "      <th>50%</th>\n",
       "      <td>3904930410.00</td>\n",
       "      <td>450000.00</td>\n",
       "      <td>3.00</td>\n",
       "      <td>2.25</td>\n",
       "      <td>1910.00</td>\n",
       "      <td>7618.00</td>\n",
       "      <td>1.50</td>\n",
       "      <td>0.00</td>\n",
       "      <td>0.00</td>\n",
       "      <td>3.00</td>\n",
       "      <td>7.00</td>\n",
       "      <td>1560.00</td>\n",
       "      <td>0.00</td>\n",
       "      <td>1975.00</td>\n",
       "      <td>0.00</td>\n",
       "      <td>98065.00</td>\n",
       "      <td>47.57</td>\n",
       "      <td>-122.23</td>\n",
       "      <td>1840.00</td>\n",
       "      <td>7620.00</td>\n",
       "      <td>445950.00</td>\n",
       "    </tr>\n",
       "    <tr>\n",
       "      <th>75%</th>\n",
       "      <td>7308900445.00</td>\n",
       "      <td>645000.00</td>\n",
       "      <td>4.00</td>\n",
       "      <td>2.50</td>\n",
       "      <td>2550.00</td>\n",
       "      <td>10688.00</td>\n",
       "      <td>2.00</td>\n",
       "      <td>0.00</td>\n",
       "      <td>0.00</td>\n",
       "      <td>4.00</td>\n",
       "      <td>8.00</td>\n",
       "      <td>2210.00</td>\n",
       "      <td>560.00</td>\n",
       "      <td>1997.00</td>\n",
       "      <td>0.00</td>\n",
       "      <td>98118.00</td>\n",
       "      <td>47.68</td>\n",
       "      <td>-122.12</td>\n",
       "      <td>2360.00</td>\n",
       "      <td>10083.00</td>\n",
       "      <td>572000.00</td>\n",
       "    </tr>\n",
       "    <tr>\n",
       "      <th>max</th>\n",
       "      <td>9900000190.00</td>\n",
       "      <td>7700000.00</td>\n",
       "      <td>33.00</td>\n",
       "      <td>8.00</td>\n",
       "      <td>13540.00</td>\n",
       "      <td>1651359.00</td>\n",
       "      <td>3.50</td>\n",
       "      <td>1.00</td>\n",
       "      <td>4.00</td>\n",
       "      <td>5.00</td>\n",
       "      <td>13.00</td>\n",
       "      <td>9410.00</td>\n",
       "      <td>4820.00</td>\n",
       "      <td>2015.00</td>\n",
       "      <td>2015.00</td>\n",
       "      <td>98199.00</td>\n",
       "      <td>47.78</td>\n",
       "      <td>-121.31</td>\n",
       "      <td>6210.00</td>\n",
       "      <td>871200.00</td>\n",
       "      <td>1892500.00</td>\n",
       "    </tr>\n",
       "  </tbody>\n",
       "</table>\n",
       "</div>"
      ],
      "text/plain": [
       "                 id      price  bedrooms  bathrooms  sqft_living   sqft_lot   floors  waterfront     view  condition    grade  sqft_above  sqft_basement  yr_built  yr_renovated  zipcode      lat     long  sqft_living15  sqft_lot15  price_median\n",
       "count      21613.00   21613.00  21613.00   21613.00     21613.00   21613.00 21613.00    21613.00 21613.00   21613.00 21613.00    21613.00       21613.00  21613.00      21613.00 21613.00 21613.00 21613.00       21613.00    21613.00      21613.00\n",
       "mean  4580301520.86  540088.14      3.37       2.11      2079.90   15106.97     1.49        0.01     0.23       3.41     7.66     1788.39         291.51   1971.01         84.40 98077.94    47.56  -122.21        1986.55    12768.46     485863.94\n",
       "std   2876565571.31  367127.20      0.93       0.77       918.44   41420.51     0.54        0.09     0.77       0.65     1.18      828.09         442.58     29.37        401.68    53.51     0.14     0.14         685.39    27304.18     196658.61\n",
       "min      1000102.00   75000.00      0.00       0.00       290.00     520.00     1.00        0.00     0.00       1.00     1.00      290.00           0.00   1900.00          0.00 98001.00    47.16  -122.52         399.00      651.00     235000.00\n",
       "25%   2123049194.00  321950.00      3.00       1.75      1427.00    5040.00     1.00        0.00     0.00       3.00     7.00     1190.00           0.00   1951.00          0.00 98033.00    47.47  -122.33        1490.00     5100.00     335000.00\n",
       "50%   3904930410.00  450000.00      3.00       2.25      1910.00    7618.00     1.50        0.00     0.00       3.00     7.00     1560.00           0.00   1975.00          0.00 98065.00    47.57  -122.23        1840.00     7620.00     445950.00\n",
       "75%   7308900445.00  645000.00      4.00       2.50      2550.00   10688.00     2.00        0.00     0.00       4.00     8.00     2210.00         560.00   1997.00          0.00 98118.00    47.68  -122.12        2360.00    10083.00     572000.00\n",
       "max   9900000190.00 7700000.00     33.00       8.00     13540.00 1651359.00     3.50        1.00     4.00       5.00    13.00     9410.00        4820.00   2015.00       2015.00 98199.00    47.78  -121.31        6210.00   871200.00    1892500.00"
      ]
     },
     "execution_count": 9,
     "metadata": {},
     "output_type": "execute_result"
    }
   ],
   "source": [
    "df2.describe()"
   ]
  },
  {
   "cell_type": "markdown",
   "id": "bd72634e",
   "metadata": {},
   "source": [
    "Já percebi um possível outlier de 33 quartos, pois ele está bem longe da mediana, e da média também, verifiquei que há somente um dado com essa característica, portanto achei mais eficiente tira-lá da análise"
   ]
  },
  {
   "cell_type": "code",
   "execution_count": 10,
   "id": "239a468d",
   "metadata": {
    "ExecuteTime": {
     "end_time": "2022-10-27T19:01:17.459816Z",
     "start_time": "2022-10-27T19:01:17.442830Z"
    }
   },
   "outputs": [],
   "source": [
    "df2 = df2.loc[df2['bedrooms'] != 33]"
   ]
  },
  {
   "cell_type": "markdown",
   "id": "46da5355",
   "metadata": {},
   "source": [
    "Agora eu vou criar uma coluna chamada status, onde colocarei a sugestão de compra ou não, conforme a premissa de que se o preço do imovel for menor que a mediana da região, o status e de compra, caso não, de não compra."
   ]
  },
  {
   "cell_type": "code",
   "execution_count": 11,
   "id": "496787db",
   "metadata": {
    "ExecuteTime": {
     "end_time": "2022-10-27T19:01:17.467324Z",
     "start_time": "2022-10-27T19:01:17.461828Z"
    }
   },
   "outputs": [],
   "source": [
    "df2['status'] = 'STATUS'"
   ]
  },
  {
   "cell_type": "code",
   "execution_count": 12,
   "id": "b7d2c607",
   "metadata": {
    "ExecuteTime": {
     "end_time": "2022-10-27T19:01:17.483642Z",
     "start_time": "2022-10-27T19:01:17.469863Z"
    }
   },
   "outputs": [],
   "source": [
    "df3 = df2.copy()"
   ]
  },
  {
   "cell_type": "code",
   "execution_count": 13,
   "id": "23b5203e",
   "metadata": {
    "ExecuteTime": {
     "end_time": "2022-10-27T19:01:26.752842Z",
     "start_time": "2022-10-27T19:01:17.485430Z"
    }
   },
   "outputs": [],
   "source": [
    "selecionar(df3)"
   ]
  },
  {
   "cell_type": "code",
   "execution_count": 14,
   "id": "529bab94",
   "metadata": {
    "ExecuteTime": {
     "end_time": "2022-10-27T19:01:26.762674Z",
     "start_time": "2022-10-27T19:01:26.754926Z"
    }
   },
   "outputs": [],
   "source": [
    "df3 = df3[df3['status'] == 'BUY']"
   ]
  },
  {
   "cell_type": "code",
   "execution_count": 15,
   "id": "cffca806",
   "metadata": {
    "ExecuteTime": {
     "end_time": "2022-10-27T19:01:26.771913Z",
     "start_time": "2022-10-27T19:01:26.765311Z"
    }
   },
   "outputs": [
    {
     "data": {
      "text/plain": [
       "BUY    10579\n",
       "Name: status, dtype: int64"
      ]
     },
     "execution_count": 15,
     "metadata": {},
     "output_type": "execute_result"
    }
   ],
   "source": [
    "df3['status'].value_counts()"
   ]
  },
  {
   "cell_type": "markdown",
   "id": "522bdf30",
   "metadata": {},
   "source": [
    "Existem 10579 imóvies com potencial de ganho, agora iremos refinar para tentarmos maximizar os imóveis com maiores potenciais de ganho"
   ]
  },
  {
   "cell_type": "markdown",
   "id": "556ca92a",
   "metadata": {
    "ExecuteTime": {
     "end_time": "2022-08-30T11:12:47.963501Z",
     "start_time": "2022-08-30T11:12:47.887357Z"
    }
   },
   "source": [
    "## 2.0 - Exploração dos Dados (EDA)"
   ]
  },
  {
   "cell_type": "markdown",
   "id": "4017ebeb",
   "metadata": {},
   "source": [
    "### H1: Imóveis que possuem vista para água, são 30% mais caros, na média.  (V)\n"
   ]
  },
  {
   "cell_type": "markdown",
   "id": "756a2c2a",
   "metadata": {},
   "source": [
    "Os imóvei na média estão mais caros que 30%, e os imóveis com possibilidade de compra estão mais baratos na media do que as casas sem vista, portanto um ótimo negócio."
   ]
  },
  {
   "cell_type": "code",
   "execution_count": 16,
   "id": "c5b2a1ae",
   "metadata": {
    "ExecuteTime": {
     "end_time": "2022-10-27T19:01:26.788965Z",
     "start_time": "2022-10-27T19:01:26.776485Z"
    }
   },
   "outputs": [
    {
     "data": {
      "text/html": [
       "<div>\n",
       "<style scoped>\n",
       "    .dataframe tbody tr th:only-of-type {\n",
       "        vertical-align: middle;\n",
       "    }\n",
       "\n",
       "    .dataframe tbody tr th {\n",
       "        vertical-align: top;\n",
       "    }\n",
       "\n",
       "    .dataframe thead th {\n",
       "        text-align: right;\n",
       "    }\n",
       "</style>\n",
       "<table border=\"1\" class=\"dataframe\">\n",
       "  <thead>\n",
       "    <tr style=\"text-align: right;\">\n",
       "      <th></th>\n",
       "      <th>waterfront</th>\n",
       "      <th>price</th>\n",
       "    </tr>\n",
       "  </thead>\n",
       "  <tbody>\n",
       "    <tr>\n",
       "      <th>0</th>\n",
       "      <td>0</td>\n",
       "      <td>531558.54</td>\n",
       "    </tr>\n",
       "    <tr>\n",
       "      <th>1</th>\n",
       "      <td>1</td>\n",
       "      <td>1661876.02</td>\n",
       "    </tr>\n",
       "  </tbody>\n",
       "</table>\n",
       "</div>"
      ],
      "text/plain": [
       "   waterfront      price\n",
       "0           0  531558.54\n",
       "1           1 1661876.02"
      ]
     },
     "execution_count": 16,
     "metadata": {},
     "output_type": "execute_result"
    }
   ],
   "source": [
    "df2[['waterfront', 'price']].groupby('waterfront').mean().reset_index()"
   ]
  },
  {
   "cell_type": "code",
   "execution_count": 17,
   "id": "daebee18",
   "metadata": {
    "ExecuteTime": {
     "end_time": "2022-10-27T19:01:26.808875Z",
     "start_time": "2022-10-27T19:01:26.791572Z"
    }
   },
   "outputs": [
    {
     "data": {
      "text/html": [
       "<div>\n",
       "<style scoped>\n",
       "    .dataframe tbody tr th:only-of-type {\n",
       "        vertical-align: middle;\n",
       "    }\n",
       "\n",
       "    .dataframe tbody tr th {\n",
       "        vertical-align: top;\n",
       "    }\n",
       "\n",
       "    .dataframe thead th {\n",
       "        text-align: right;\n",
       "    }\n",
       "</style>\n",
       "<table border=\"1\" class=\"dataframe\">\n",
       "  <thead>\n",
       "    <tr style=\"text-align: right;\">\n",
       "      <th></th>\n",
       "      <th>waterfront</th>\n",
       "      <th>price</th>\n",
       "    </tr>\n",
       "  </thead>\n",
       "  <tbody>\n",
       "    <tr>\n",
       "      <th>0</th>\n",
       "      <td>0</td>\n",
       "      <td>387038.08</td>\n",
       "    </tr>\n",
       "    <tr>\n",
       "      <th>1</th>\n",
       "      <td>1</td>\n",
       "      <td>357721.33</td>\n",
       "    </tr>\n",
       "  </tbody>\n",
       "</table>\n",
       "</div>"
      ],
      "text/plain": [
       "   waterfront     price\n",
       "0           0 387038.08\n",
       "1           1 357721.33"
      ]
     },
     "execution_count": 17,
     "metadata": {},
     "output_type": "execute_result"
    }
   ],
   "source": [
    "df3[['waterfront', 'price']].groupby('waterfront').mean().reset_index()"
   ]
  },
  {
   "cell_type": "markdown",
   "id": "1a432f03",
   "metadata": {
    "ExecuteTime": {
     "end_time": "2022-09-29T11:19:44.088051Z",
     "start_time": "2022-09-29T11:19:44.079352Z"
    }
   },
   "source": [
    "### H2: Imóveis com data de construção menor que 1955, são 50% mais baratos, na média. (F)"
   ]
  },
  {
   "cell_type": "code",
   "execution_count": 18,
   "id": "10969b41",
   "metadata": {
    "ExecuteTime": {
     "end_time": "2022-10-27T19:01:26.841346Z",
     "start_time": "2022-10-27T19:01:26.811074Z"
    }
   },
   "outputs": [
    {
     "data": {
      "text/html": [
       "<div>\n",
       "<style scoped>\n",
       "    .dataframe tbody tr th:only-of-type {\n",
       "        vertical-align: middle;\n",
       "    }\n",
       "\n",
       "    .dataframe tbody tr th {\n",
       "        vertical-align: top;\n",
       "    }\n",
       "\n",
       "    .dataframe thead th {\n",
       "        text-align: right;\n",
       "    }\n",
       "</style>\n",
       "<table border=\"1\" class=\"dataframe\">\n",
       "  <thead>\n",
       "    <tr style=\"text-align: right;\">\n",
       "      <th></th>\n",
       "      <th>ano</th>\n",
       "      <th>price</th>\n",
       "    </tr>\n",
       "  </thead>\n",
       "  <tbody>\n",
       "    <tr>\n",
       "      <th>0</th>\n",
       "      <td>&lt; 1955</td>\n",
       "      <td>541299.97</td>\n",
       "    </tr>\n",
       "    <tr>\n",
       "      <th>1</th>\n",
       "      <td>&gt; 1955</td>\n",
       "      <td>537034.20</td>\n",
       "    </tr>\n",
       "  </tbody>\n",
       "</table>\n",
       "</div>"
      ],
      "text/plain": [
       "      ano     price\n",
       "0  < 1955 541299.97\n",
       "1  > 1955 537034.20"
      ]
     },
     "execution_count": 18,
     "metadata": {},
     "output_type": "execute_result"
    }
   ],
   "source": [
    "hipo2(df2)"
   ]
  },
  {
   "cell_type": "markdown",
   "id": "0c79f7e4",
   "metadata": {
    "ExecuteTime": {
     "end_time": "2022-09-29T12:17:29.636839Z",
     "start_time": "2022-09-29T12:17:29.632342Z"
    }
   },
   "source": [
    "### H3 - Imóveis sem porão são 40% maiores do que imóveis com porão (F)"
   ]
  },
  {
   "cell_type": "markdown",
   "id": "6aa70ffc",
   "metadata": {},
   "source": [
    "Os imóveis em média são 22,55% maiores."
   ]
  },
  {
   "cell_type": "code",
   "execution_count": 19,
   "id": "f46cce59",
   "metadata": {
    "ExecuteTime": {
     "end_time": "2022-10-27T19:01:26.865659Z",
     "start_time": "2022-10-27T19:01:26.844795Z"
    }
   },
   "outputs": [
    {
     "data": {
      "text/plain": [
       "22.555796220754452"
      ]
     },
     "execution_count": 19,
     "metadata": {},
     "output_type": "execute_result"
    }
   ],
   "source": [
    "hipo3(df2)"
   ]
  },
  {
   "cell_type": "markdown",
   "id": "5d60d55b",
   "metadata": {
    "ExecuteTime": {
     "end_time": "2022-10-06T11:57:41.774320Z",
     "start_time": "2022-10-06T11:57:41.769411Z"
    }
   },
   "source": [
    "### H4 - Imóveis que nunca foram reformados são em média 30% mais barato (V)"
   ]
  },
  {
   "cell_type": "markdown",
   "id": "5f661e5b",
   "metadata": {},
   "source": [
    "Os Imóveis sem reforma estão em média 30,25% mais baratos que os reformados"
   ]
  },
  {
   "cell_type": "code",
   "execution_count": 20,
   "id": "367fdd8d",
   "metadata": {
    "ExecuteTime": {
     "end_time": "2022-10-27T19:01:26.891520Z",
     "start_time": "2022-10-27T19:01:26.871494Z"
    }
   },
   "outputs": [
    {
     "data": {
      "text/plain": [
       "-30.25116416146483"
      ]
     },
     "execution_count": 20,
     "metadata": {},
     "output_type": "execute_result"
    }
   ],
   "source": [
    "hipo4(df2)"
   ]
  },
  {
   "cell_type": "markdown",
   "id": "f40427bd",
   "metadata": {},
   "source": [
    "### H5 - Imóveis com mais banheiros são em média 15% mais caros (F)"
   ]
  },
  {
   "cell_type": "markdown",
   "id": "66684032",
   "metadata": {},
   "source": [
    "Os imóveis com 3-5 banheiros são 120% mais caros que os de 0-3 banheiros, e os de 5-8 banheiros são 72% mais caros que os de 0-3."
   ]
  },
  {
   "cell_type": "code",
   "execution_count": 21,
   "id": "fe48e1eb",
   "metadata": {
    "ExecuteTime": {
     "end_time": "2022-10-27T19:01:26.912350Z",
     "start_time": "2022-10-27T19:01:26.893366Z"
    }
   },
   "outputs": [
    {
     "data": {
      "text/plain": [
       "(120.27236258866452, 72.31056145526189)"
      ]
     },
     "execution_count": 21,
     "metadata": {},
     "output_type": "execute_result"
    }
   ],
   "source": [
    "hipo5(df2)"
   ]
  },
  {
   "cell_type": "markdown",
   "id": "101bcc4d",
   "metadata": {},
   "source": [
    "### H6 - Imóveis com mais quartos são em média 15% mais caros (F)"
   ]
  },
  {
   "cell_type": "markdown",
   "id": "6d6892b3",
   "metadata": {},
   "source": [
    "Os imóveis mais caros são as com 5 a 8 quartos, e são em média 43% mais caros que as com 8 a 11 quartos."
   ]
  },
  {
   "cell_type": "code",
   "execution_count": 42,
   "id": "7d19cac9",
   "metadata": {
    "ExecuteTime": {
     "end_time": "2022-10-27T19:02:27.100744Z",
     "start_time": "2022-10-27T19:02:27.089024Z"
    }
   },
   "outputs": [],
   "source": [
    "hh = hipo6(df2)"
   ]
  },
  {
   "cell_type": "code",
   "execution_count": 43,
   "id": "1691a6df",
   "metadata": {
    "ExecuteTime": {
     "end_time": "2022-10-27T19:02:31.773131Z",
     "start_time": "2022-10-27T19:02:31.764821Z"
    }
   },
   "outputs": [
    {
     "data": {
      "text/html": [
       "<div>\n",
       "<style scoped>\n",
       "    .dataframe tbody tr th:only-of-type {\n",
       "        vertical-align: middle;\n",
       "    }\n",
       "\n",
       "    .dataframe tbody tr th {\n",
       "        vertical-align: top;\n",
       "    }\n",
       "\n",
       "    .dataframe thead th {\n",
       "        text-align: right;\n",
       "    }\n",
       "</style>\n",
       "<table border=\"1\" class=\"dataframe\">\n",
       "  <thead>\n",
       "    <tr style=\"text-align: right;\">\n",
       "      <th></th>\n",
       "      <th>quartos</th>\n",
       "      <th>price</th>\n",
       "    </tr>\n",
       "  </thead>\n",
       "  <tbody>\n",
       "    <tr>\n",
       "      <th>0</th>\n",
       "      <td>0-3</td>\n",
       "      <td>449915.00</td>\n",
       "    </tr>\n",
       "    <tr>\n",
       "      <th>1</th>\n",
       "      <td>3-5</td>\n",
       "      <td>663951.83</td>\n",
       "    </tr>\n",
       "    <tr>\n",
       "      <th>2</th>\n",
       "      <td>5-8</td>\n",
       "      <td>851556.13</td>\n",
       "    </tr>\n",
       "    <tr>\n",
       "      <th>3</th>\n",
       "      <td>8-11</td>\n",
       "      <td>594154.30</td>\n",
       "    </tr>\n",
       "  </tbody>\n",
       "</table>\n",
       "</div>"
      ],
      "text/plain": [
       "  quartos     price\n",
       "0     0-3 449915.00\n",
       "1     3-5 663951.83\n",
       "2     5-8 851556.13\n",
       "3    8-11 594154.30"
      ]
     },
     "execution_count": 43,
     "metadata": {},
     "output_type": "execute_result"
    }
   ],
   "source": [
    "hh"
   ]
  },
  {
   "cell_type": "code",
   "execution_count": 47,
   "id": "49620ae6",
   "metadata": {
    "ExecuteTime": {
     "end_time": "2022-10-27T19:04:05.462088Z",
     "start_time": "2022-10-27T19:04:05.454227Z"
    }
   },
   "outputs": [
    {
     "data": {
      "text/plain": [
       "89.27044565952107"
      ]
     },
     "execution_count": 47,
     "metadata": {},
     "output_type": "execute_result"
    }
   ],
   "source": [
    "x6 = ((hh.iloc[2,1]-hh.iloc[3,1])/hh.iloc[3,1])*100\n",
    "\n",
    "x61 = ((hh.iloc[2,1]-hh.iloc[0,1])/hh.iloc[0,1])*100\n",
    "\n",
    "x61"
   ]
  },
  {
   "cell_type": "markdown",
   "id": "90320d27",
   "metadata": {},
   "source": [
    "### H7 - O crescimento do preço dos imóveis mês após mês no ano de 2014 é de 10% (F)\n"
   ]
  },
  {
   "cell_type": "markdown",
   "id": "72bec8b8",
   "metadata": {},
   "source": [
    "Podemos ver graficamente que há quedas em alguns meses"
   ]
  },
  {
   "cell_type": "code",
   "execution_count": 24,
   "id": "26754b86",
   "metadata": {
    "ExecuteTime": {
     "end_time": "2022-10-27T19:01:26.962700Z",
     "start_time": "2022-10-27T19:01:26.955086Z"
    }
   },
   "outputs": [],
   "source": [
    "df2['year'] = df2['date'].dt.year\n",
    "df2['month'] = df2['date'].dt.month"
   ]
  },
  {
   "cell_type": "code",
   "execution_count": 25,
   "id": "97e8570b",
   "metadata": {
    "ExecuteTime": {
     "end_time": "2022-10-27T19:01:26.980230Z",
     "start_time": "2022-10-27T19:01:26.965962Z"
    }
   },
   "outputs": [],
   "source": [
    "x = df2[df2['year']==2014]"
   ]
  },
  {
   "cell_type": "code",
   "execution_count": 26,
   "id": "966bba19",
   "metadata": {
    "ExecuteTime": {
     "end_time": "2022-10-27T19:01:27.518098Z",
     "start_time": "2022-10-27T19:01:26.982651Z"
    }
   },
   "outputs": [
    {
     "data": {
      "text/plain": [
       "<AxesSubplot:xlabel='month', ylabel='price'>"
      ]
     },
     "execution_count": 26,
     "metadata": {},
     "output_type": "execute_result"
    },
    {
     "data": {
      "image/png": "[encoded data removed]",
      "text/plain": [
       "<Figure size 1440x864 with 1 Axes>"
      ]
     },
     "metadata": {},
     "output_type": "display_data"
    }
   ],
   "source": [
    "sns.lineplot(data=x, x='month', y='price')"
   ]
  },
  {
   "cell_type": "markdown",
   "id": "b27be1e0",
   "metadata": {},
   "source": [
    "### H8 - O crescimento do preço dos imóveis ano após ano é de 10% (F)"
   ]
  },
  {
   "cell_type": "code",
   "execution_count": 27,
   "id": "e4bc52ab",
   "metadata": {
    "ExecuteTime": {
     "end_time": "2022-10-27T19:01:27.953971Z",
     "start_time": "2022-10-27T19:01:27.520460Z"
    }
   },
   "outputs": [
    {
     "data": {
      "text/plain": [
       "<AxesSubplot:xlabel='year', ylabel='price'>"
      ]
     },
     "execution_count": 27,
     "metadata": {},
     "output_type": "execute_result"
    },
    {
     "data": {
      "image/png": "[encoded data removed]",
      "text/plain": [
       "<Figure size 1440x864 with 1 Axes>"
      ]
     },
     "metadata": {},
     "output_type": "display_data"
    }
   ],
   "source": [
    "yoy = df2[['year','price']]\n",
    "\n",
    "sns.lineplot(data=yoy, x='year', y='price')"
   ]
  },
  {
   "cell_type": "code",
   "execution_count": 28,
   "id": "2a098422",
   "metadata": {
    "ExecuteTime": {
     "end_time": "2022-10-27T19:01:27.963422Z",
     "start_time": "2022-10-27T19:01:27.955652Z"
    }
   },
   "outputs": [
    {
     "data": {
      "text/html": [
       "<div>\n",
       "<style scoped>\n",
       "    .dataframe tbody tr th:only-of-type {\n",
       "        vertical-align: middle;\n",
       "    }\n",
       "\n",
       "    .dataframe tbody tr th {\n",
       "        vertical-align: top;\n",
       "    }\n",
       "\n",
       "    .dataframe thead th {\n",
       "        text-align: right;\n",
       "    }\n",
       "</style>\n",
       "<table border=\"1\" class=\"dataframe\">\n",
       "  <thead>\n",
       "    <tr style=\"text-align: right;\">\n",
       "      <th></th>\n",
       "      <th>year</th>\n",
       "      <th>price</th>\n",
       "    </tr>\n",
       "  </thead>\n",
       "  <tbody>\n",
       "    <tr>\n",
       "      <th>0</th>\n",
       "      <td>2014</td>\n",
       "      <td>539174.54</td>\n",
       "    </tr>\n",
       "    <tr>\n",
       "      <th>1</th>\n",
       "      <td>2015</td>\n",
       "      <td>541988.99</td>\n",
       "    </tr>\n",
       "  </tbody>\n",
       "</table>\n",
       "</div>"
      ],
      "text/plain": [
       "   year     price\n",
       "0  2014 539174.54\n",
       "1  2015 541988.99"
      ]
     },
     "execution_count": 28,
     "metadata": {},
     "output_type": "execute_result"
    }
   ],
   "source": [
    "h8 = yoy.groupby('year').mean().reset_index()\n",
    "h8"
   ]
  },
  {
   "cell_type": "code",
   "execution_count": 29,
   "id": "f3c4afe4",
   "metadata": {
    "ExecuteTime": {
     "end_time": "2022-10-27T19:01:27.970235Z",
     "start_time": "2022-10-27T19:01:27.964958Z"
    }
   },
   "outputs": [
    {
     "data": {
      "text/plain": [
       "0.5219931448820375"
      ]
     },
     "execution_count": 29,
     "metadata": {},
     "output_type": "execute_result"
    }
   ],
   "source": [
    "x8 = ((h8.iloc[1,1]-h8.iloc[0,1])/h8.iloc[0,1])*100\n",
    "x8"
   ]
  },
  {
   "cell_type": "code",
   "execution_count": null,
   "id": "046eab02",
   "metadata": {},
   "outputs": [],
   "source": []
  },
  {
   "cell_type": "code",
   "execution_count": 30,
   "id": "aefd81c3",
   "metadata": {
    "ExecuteTime": {
     "end_time": "2022-10-27T19:01:27.975767Z",
     "start_time": "2022-10-27T19:01:27.972111Z"
    }
   },
   "outputs": [],
   "source": [
    "df4 = df3.copy()"
   ]
  },
  {
   "cell_type": "code",
   "execution_count": 31,
   "id": "c80c4ffd",
   "metadata": {
    "ExecuteTime": {
     "end_time": "2022-10-27T19:01:27.986938Z",
     "start_time": "2022-10-27T19:01:27.978043Z"
    }
   },
   "outputs": [],
   "source": [
    "df4['diference'] = df4['price_median'] - df4['price']"
   ]
  },
  {
   "cell_type": "code",
   "execution_count": 32,
   "id": "d71aa31c",
   "metadata": {
    "ExecuteTime": {
     "end_time": "2022-10-27T19:01:28.009727Z",
     "start_time": "2022-10-27T19:01:27.989038Z"
    }
   },
   "outputs": [
    {
     "data": {
      "text/html": [
       "<div>\n",
       "<style scoped>\n",
       "    .dataframe tbody tr th:only-of-type {\n",
       "        vertical-align: middle;\n",
       "    }\n",
       "\n",
       "    .dataframe tbody tr th {\n",
       "        vertical-align: top;\n",
       "    }\n",
       "\n",
       "    .dataframe thead th {\n",
       "        text-align: right;\n",
       "    }\n",
       "</style>\n",
       "<table border=\"1\" class=\"dataframe\">\n",
       "  <thead>\n",
       "    <tr style=\"text-align: right;\">\n",
       "      <th></th>\n",
       "      <th>id</th>\n",
       "      <th>date</th>\n",
       "      <th>price</th>\n",
       "      <th>bedrooms</th>\n",
       "      <th>bathrooms</th>\n",
       "      <th>sqft_living</th>\n",
       "      <th>sqft_lot</th>\n",
       "      <th>floors</th>\n",
       "      <th>waterfront</th>\n",
       "      <th>view</th>\n",
       "      <th>condition</th>\n",
       "      <th>grade</th>\n",
       "      <th>sqft_above</th>\n",
       "      <th>sqft_basement</th>\n",
       "      <th>yr_built</th>\n",
       "      <th>yr_renovated</th>\n",
       "      <th>zipcode</th>\n",
       "      <th>lat</th>\n",
       "      <th>long</th>\n",
       "      <th>sqft_living15</th>\n",
       "      <th>sqft_lot15</th>\n",
       "      <th>price_median</th>\n",
       "      <th>status</th>\n",
       "      <th>diference</th>\n",
       "    </tr>\n",
       "  </thead>\n",
       "  <tbody>\n",
       "    <tr>\n",
       "      <th>0</th>\n",
       "      <td>7129300520</td>\n",
       "      <td>2014-10-13</td>\n",
       "      <td>221900.00</td>\n",
       "      <td>3</td>\n",
       "      <td>1.00</td>\n",
       "      <td>1180</td>\n",
       "      <td>5650</td>\n",
       "      <td>1.00</td>\n",
       "      <td>0</td>\n",
       "      <td>0</td>\n",
       "      <td>3</td>\n",
       "      <td>7</td>\n",
       "      <td>1180</td>\n",
       "      <td>0</td>\n",
       "      <td>1955</td>\n",
       "      <td>0</td>\n",
       "      <td>98178</td>\n",
       "      <td>47.51</td>\n",
       "      <td>-122.26</td>\n",
       "      <td>1340</td>\n",
       "      <td>5650</td>\n",
       "      <td>278277.00</td>\n",
       "      <td>BUY</td>\n",
       "      <td>56377.00</td>\n",
       "    </tr>\n",
       "    <tr>\n",
       "      <th>1</th>\n",
       "      <td>4060000240</td>\n",
       "      <td>2014-06-23</td>\n",
       "      <td>205425.00</td>\n",
       "      <td>2</td>\n",
       "      <td>1.00</td>\n",
       "      <td>880</td>\n",
       "      <td>6780</td>\n",
       "      <td>1.00</td>\n",
       "      <td>0</td>\n",
       "      <td>0</td>\n",
       "      <td>4</td>\n",
       "      <td>6</td>\n",
       "      <td>880</td>\n",
       "      <td>0</td>\n",
       "      <td>1945</td>\n",
       "      <td>0</td>\n",
       "      <td>98178</td>\n",
       "      <td>47.50</td>\n",
       "      <td>-122.25</td>\n",
       "      <td>1190</td>\n",
       "      <td>6780</td>\n",
       "      <td>278277.00</td>\n",
       "      <td>BUY</td>\n",
       "      <td>72852.00</td>\n",
       "    </tr>\n",
       "    <tr>\n",
       "      <th>3</th>\n",
       "      <td>2976800796</td>\n",
       "      <td>2014-09-25</td>\n",
       "      <td>236000.00</td>\n",
       "      <td>3</td>\n",
       "      <td>1.00</td>\n",
       "      <td>1300</td>\n",
       "      <td>5898</td>\n",
       "      <td>1.00</td>\n",
       "      <td>0</td>\n",
       "      <td>0</td>\n",
       "      <td>3</td>\n",
       "      <td>7</td>\n",
       "      <td>1300</td>\n",
       "      <td>0</td>\n",
       "      <td>1961</td>\n",
       "      <td>0</td>\n",
       "      <td>98178</td>\n",
       "      <td>47.51</td>\n",
       "      <td>-122.25</td>\n",
       "      <td>1320</td>\n",
       "      <td>7619</td>\n",
       "      <td>278277.00</td>\n",
       "      <td>BUY</td>\n",
       "      <td>42277.00</td>\n",
       "    </tr>\n",
       "    <tr>\n",
       "      <th>4</th>\n",
       "      <td>6874200960</td>\n",
       "      <td>2015-02-27</td>\n",
       "      <td>170000.00</td>\n",
       "      <td>2</td>\n",
       "      <td>1.00</td>\n",
       "      <td>860</td>\n",
       "      <td>5265</td>\n",
       "      <td>1.00</td>\n",
       "      <td>0</td>\n",
       "      <td>0</td>\n",
       "      <td>3</td>\n",
       "      <td>6</td>\n",
       "      <td>860</td>\n",
       "      <td>0</td>\n",
       "      <td>1931</td>\n",
       "      <td>0</td>\n",
       "      <td>98178</td>\n",
       "      <td>47.50</td>\n",
       "      <td>-122.27</td>\n",
       "      <td>1650</td>\n",
       "      <td>8775</td>\n",
       "      <td>278277.00</td>\n",
       "      <td>BUY</td>\n",
       "      <td>108277.00</td>\n",
       "    </tr>\n",
       "    <tr>\n",
       "      <th>5</th>\n",
       "      <td>4268200055</td>\n",
       "      <td>2015-05-01</td>\n",
       "      <td>245000.00</td>\n",
       "      <td>3</td>\n",
       "      <td>1.75</td>\n",
       "      <td>1740</td>\n",
       "      <td>11547</td>\n",
       "      <td>1.00</td>\n",
       "      <td>0</td>\n",
       "      <td>0</td>\n",
       "      <td>3</td>\n",
       "      <td>7</td>\n",
       "      <td>1740</td>\n",
       "      <td>0</td>\n",
       "      <td>1954</td>\n",
       "      <td>0</td>\n",
       "      <td>98178</td>\n",
       "      <td>47.49</td>\n",
       "      <td>-122.22</td>\n",
       "      <td>880</td>\n",
       "      <td>78408</td>\n",
       "      <td>278277.00</td>\n",
       "      <td>BUY</td>\n",
       "      <td>33277.00</td>\n",
       "    </tr>\n",
       "  </tbody>\n",
       "</table>\n",
       "</div>"
      ],
      "text/plain": [
       "           id       date     price  bedrooms  bathrooms  sqft_living  sqft_lot  floors  waterfront  view  condition  grade  sqft_above  sqft_basement  yr_built  yr_renovated  zipcode   lat    long  sqft_living15  sqft_lot15  price_median status  diference\n",
       "0  7129300520 2014-10-13 221900.00         3       1.00         1180      5650    1.00           0     0          3      7        1180              0      1955             0    98178 47.51 -122.26           1340        5650     278277.00    BUY   56377.00\n",
       "1  4060000240 2014-06-23 205425.00         2       1.00          880      6780    1.00           0     0          4      6         880              0      1945             0    98178 47.50 -122.25           1190        6780     278277.00    BUY   72852.00\n",
       "3  2976800796 2014-09-25 236000.00         3       1.00         1300      5898    1.00           0     0          3      7        1300              0      1961             0    98178 47.51 -122.25           1320        7619     278277.00    BUY   42277.00\n",
       "4  6874200960 2015-02-27 170000.00         2       1.00          860      5265    1.00           0     0          3      6         860              0      1931             0    98178 47.50 -122.27           1650        8775     278277.00    BUY  108277.00\n",
       "5  4268200055 2015-05-01 245000.00         3       1.75         1740     11547    1.00           0     0          3      7        1740              0      1954             0    98178 47.49 -122.22            880       78408     278277.00    BUY   33277.00"
      ]
     },
     "execution_count": 32,
     "metadata": {},
     "output_type": "execute_result"
    }
   ],
   "source": [
    "df4.head()"
   ]
  },
  {
   "cell_type": "code",
   "execution_count": 33,
   "id": "4106a7d6",
   "metadata": {
    "ExecuteTime": {
     "end_time": "2022-10-27T19:01:28.022001Z",
     "start_time": "2022-10-27T19:01:28.011743Z"
    }
   },
   "outputs": [],
   "source": [
    "conclusion = df4[['id', 'zipcode', 'waterfront', 'price', 'diference', 'price_median']]"
   ]
  },
  {
   "cell_type": "code",
   "execution_count": 34,
   "id": "754fe19c",
   "metadata": {
    "ExecuteTime": {
     "end_time": "2022-10-27T19:01:28.031929Z",
     "start_time": "2022-10-27T19:01:28.025107Z"
    }
   },
   "outputs": [],
   "source": [
    "table = conclusion.sort_values('diference', ascending = False).reset_index().head(20)"
   ]
  },
  {
   "cell_type": "code",
   "execution_count": 35,
   "id": "44712d01",
   "metadata": {
    "ExecuteTime": {
     "end_time": "2022-10-27T19:01:28.050932Z",
     "start_time": "2022-10-27T19:01:28.036000Z"
    }
   },
   "outputs": [
    {
     "data": {
      "text/html": [
       "<div>\n",
       "<style scoped>\n",
       "    .dataframe tbody tr th:only-of-type {\n",
       "        vertical-align: middle;\n",
       "    }\n",
       "\n",
       "    .dataframe tbody tr th {\n",
       "        vertical-align: top;\n",
       "    }\n",
       "\n",
       "    .dataframe thead th {\n",
       "        text-align: right;\n",
       "    }\n",
       "</style>\n",
       "<table border=\"1\" class=\"dataframe\">\n",
       "  <thead>\n",
       "    <tr style=\"text-align: right;\">\n",
       "      <th></th>\n",
       "      <th>index</th>\n",
       "      <th>id</th>\n",
       "      <th>zipcode</th>\n",
       "      <th>waterfront</th>\n",
       "      <th>price</th>\n",
       "      <th>diference</th>\n",
       "      <th>price_median</th>\n",
       "    </tr>\n",
       "  </thead>\n",
       "  <tbody>\n",
       "    <tr>\n",
       "      <th>0</th>\n",
       "      <td>21582</td>\n",
       "      <td>5425700150</td>\n",
       "      <td>98039</td>\n",
       "      <td>0</td>\n",
       "      <td>787500.00</td>\n",
       "      <td>1105000.00</td>\n",
       "      <td>1892500.00</td>\n",
       "    </tr>\n",
       "    <tr>\n",
       "      <th>1</th>\n",
       "      <td>21577</td>\n",
       "      <td>3262301610</td>\n",
       "      <td>98039</td>\n",
       "      <td>0</td>\n",
       "      <td>865000.00</td>\n",
       "      <td>1027500.00</td>\n",
       "      <td>1892500.00</td>\n",
       "    </tr>\n",
       "    <tr>\n",
       "      <th>2</th>\n",
       "      <td>21565</td>\n",
       "      <td>3262300940</td>\n",
       "      <td>98039</td>\n",
       "      <td>0</td>\n",
       "      <td>875000.00</td>\n",
       "      <td>1017500.00</td>\n",
       "      <td>1892500.00</td>\n",
       "    </tr>\n",
       "    <tr>\n",
       "      <th>3</th>\n",
       "      <td>21569</td>\n",
       "      <td>2210500019</td>\n",
       "      <td>98039</td>\n",
       "      <td>0</td>\n",
       "      <td>937500.00</td>\n",
       "      <td>955000.00</td>\n",
       "      <td>1892500.00</td>\n",
       "    </tr>\n",
       "    <tr>\n",
       "      <th>4</th>\n",
       "      <td>21566</td>\n",
       "      <td>3262300940</td>\n",
       "      <td>98039</td>\n",
       "      <td>0</td>\n",
       "      <td>940000.00</td>\n",
       "      <td>952500.00</td>\n",
       "      <td>1892500.00</td>\n",
       "    </tr>\n",
       "    <tr>\n",
       "      <th>5</th>\n",
       "      <td>21578</td>\n",
       "      <td>5426300060</td>\n",
       "      <td>98039</td>\n",
       "      <td>0</td>\n",
       "      <td>1000000.00</td>\n",
       "      <td>892500.00</td>\n",
       "      <td>1892500.00</td>\n",
       "    </tr>\n",
       "    <tr>\n",
       "      <th>6</th>\n",
       "      <td>7418</td>\n",
       "      <td>5016003230</td>\n",
       "      <td>98112</td>\n",
       "      <td>0</td>\n",
       "      <td>169317.00</td>\n",
       "      <td>745683.00</td>\n",
       "      <td>915000.00</td>\n",
       "    </tr>\n",
       "    <tr>\n",
       "      <th>7</th>\n",
       "      <td>21570</td>\n",
       "      <td>6447300345</td>\n",
       "      <td>98039</td>\n",
       "      <td>0</td>\n",
       "      <td>1160000.00</td>\n",
       "      <td>732500.00</td>\n",
       "      <td>1892500.00</td>\n",
       "    </tr>\n",
       "    <tr>\n",
       "      <th>8</th>\n",
       "      <td>21597</td>\n",
       "      <td>3262300920</td>\n",
       "      <td>98039</td>\n",
       "      <td>0</td>\n",
       "      <td>1200000.00</td>\n",
       "      <td>692500.00</td>\n",
       "      <td>1892500.00</td>\n",
       "    </tr>\n",
       "    <tr>\n",
       "      <th>9</th>\n",
       "      <td>21587</td>\n",
       "      <td>5427110040</td>\n",
       "      <td>98039</td>\n",
       "      <td>0</td>\n",
       "      <td>1225000.00</td>\n",
       "      <td>667500.00</td>\n",
       "      <td>1892500.00</td>\n",
       "    </tr>\n",
       "    <tr>\n",
       "      <th>10</th>\n",
       "      <td>21591</td>\n",
       "      <td>3835502815</td>\n",
       "      <td>98039</td>\n",
       "      <td>0</td>\n",
       "      <td>1260000.00</td>\n",
       "      <td>632500.00</td>\n",
       "      <td>1892500.00</td>\n",
       "    </tr>\n",
       "    <tr>\n",
       "      <th>11</th>\n",
       "      <td>13781</td>\n",
       "      <td>2062600020</td>\n",
       "      <td>98004</td>\n",
       "      <td>0</td>\n",
       "      <td>530000.00</td>\n",
       "      <td>620000.00</td>\n",
       "      <td>1150000.00</td>\n",
       "    </tr>\n",
       "    <tr>\n",
       "      <th>12</th>\n",
       "      <td>7508</td>\n",
       "      <td>5016000315</td>\n",
       "      <td>98112</td>\n",
       "      <td>0</td>\n",
       "      <td>332000.00</td>\n",
       "      <td>583000.00</td>\n",
       "      <td>915000.00</td>\n",
       "    </tr>\n",
       "    <tr>\n",
       "      <th>13</th>\n",
       "      <td>13576</td>\n",
       "      <td>7000100850</td>\n",
       "      <td>98004</td>\n",
       "      <td>0</td>\n",
       "      <td>569000.00</td>\n",
       "      <td>581000.00</td>\n",
       "      <td>1150000.00</td>\n",
       "    </tr>\n",
       "    <tr>\n",
       "      <th>14</th>\n",
       "      <td>21575</td>\n",
       "      <td>3262301355</td>\n",
       "      <td>98039</td>\n",
       "      <td>0</td>\n",
       "      <td>1320000.00</td>\n",
       "      <td>572500.00</td>\n",
       "      <td>1892500.00</td>\n",
       "    </tr>\n",
       "    <tr>\n",
       "      <th>15</th>\n",
       "      <td>7443</td>\n",
       "      <td>9209900315</td>\n",
       "      <td>98112</td>\n",
       "      <td>0</td>\n",
       "      <td>350000.00</td>\n",
       "      <td>565000.00</td>\n",
       "      <td>915000.00</td>\n",
       "    </tr>\n",
       "    <tr>\n",
       "      <th>16</th>\n",
       "      <td>13753</td>\n",
       "      <td>2450000275</td>\n",
       "      <td>98004</td>\n",
       "      <td>0</td>\n",
       "      <td>595000.00</td>\n",
       "      <td>555000.00</td>\n",
       "      <td>1150000.00</td>\n",
       "    </tr>\n",
       "    <tr>\n",
       "      <th>17</th>\n",
       "      <td>13637</td>\n",
       "      <td>7000100635</td>\n",
       "      <td>98004</td>\n",
       "      <td>0</td>\n",
       "      <td>600000.00</td>\n",
       "      <td>550000.00</td>\n",
       "      <td>1150000.00</td>\n",
       "    </tr>\n",
       "    <tr>\n",
       "      <th>18</th>\n",
       "      <td>19021</td>\n",
       "      <td>1238500451</td>\n",
       "      <td>98033</td>\n",
       "      <td>0</td>\n",
       "      <td>130000.00</td>\n",
       "      <td>548350.00</td>\n",
       "      <td>678350.00</td>\n",
       "    </tr>\n",
       "    <tr>\n",
       "      <th>19</th>\n",
       "      <td>7630</td>\n",
       "      <td>1338600090</td>\n",
       "      <td>98112</td>\n",
       "      <td>0</td>\n",
       "      <td>370000.00</td>\n",
       "      <td>545000.00</td>\n",
       "      <td>915000.00</td>\n",
       "    </tr>\n",
       "  </tbody>\n",
       "</table>\n",
       "</div>"
      ],
      "text/plain": [
       "    index          id  zipcode  waterfront      price  diference  price_median\n",
       "0   21582  5425700150    98039           0  787500.00 1105000.00    1892500.00\n",
       "1   21577  3262301610    98039           0  865000.00 1027500.00    1892500.00\n",
       "2   21565  3262300940    98039           0  875000.00 1017500.00    1892500.00\n",
       "3   21569  2210500019    98039           0  937500.00  955000.00    1892500.00\n",
       "4   21566  3262300940    98039           0  940000.00  952500.00    1892500.00\n",
       "5   21578  5426300060    98039           0 1000000.00  892500.00    1892500.00\n",
       "6    7418  5016003230    98112           0  169317.00  745683.00     915000.00\n",
       "7   21570  6447300345    98039           0 1160000.00  732500.00    1892500.00\n",
       "8   21597  3262300920    98039           0 1200000.00  692500.00    1892500.00\n",
       "9   21587  5427110040    98039           0 1225000.00  667500.00    1892500.00\n",
       "10  21591  3835502815    98039           0 1260000.00  632500.00    1892500.00\n",
       "11  13781  2062600020    98004           0  530000.00  620000.00    1150000.00\n",
       "12   7508  5016000315    98112           0  332000.00  583000.00     915000.00\n",
       "13  13576  7000100850    98004           0  569000.00  581000.00    1150000.00\n",
       "14  21575  3262301355    98039           0 1320000.00  572500.00    1892500.00\n",
       "15   7443  9209900315    98112           0  350000.00  565000.00     915000.00\n",
       "16  13753  2450000275    98004           0  595000.00  555000.00    1150000.00\n",
       "17  13637  7000100635    98004           0  600000.00  550000.00    1150000.00\n",
       "18  19021  1238500451    98033           0  130000.00  548350.00     678350.00\n",
       "19   7630  1338600090    98112           0  370000.00  545000.00     915000.00"
      ]
     },
     "execution_count": 35,
     "metadata": {},
     "output_type": "execute_result"
    }
   ],
   "source": [
    "table"
   ]
  },
  {
   "cell_type": "code",
   "execution_count": 36,
   "id": "b8fcf51a",
   "metadata": {
    "ExecuteTime": {
     "end_time": "2022-10-27T19:01:28.062401Z",
     "start_time": "2022-10-27T19:01:28.054328Z"
    }
   },
   "outputs": [
    {
     "data": {
      "text/plain": [
       "98039    11\n",
       "98112     4\n",
       "98004     4\n",
       "98033     1\n",
       "Name: zipcode, dtype: int64"
      ]
     },
     "execution_count": 36,
     "metadata": {},
     "output_type": "execute_result"
    }
   ],
   "source": [
    "table['zipcode'].value_counts()"
   ]
  },
  {
   "cell_type": "code",
   "execution_count": 37,
   "id": "373a58d0",
   "metadata": {
    "ExecuteTime": {
     "end_time": "2022-10-27T19:01:28.069910Z",
     "start_time": "2022-10-27T19:01:28.064270Z"
    }
   },
   "outputs": [
    {
     "data": {
      "text/plain": [
       "15215317.0"
      ]
     },
     "execution_count": 37,
     "metadata": {},
     "output_type": "execute_result"
    }
   ],
   "source": [
    "investimento = table['price'].sum()\n",
    "investimento"
   ]
  },
  {
   "cell_type": "code",
   "execution_count": 38,
   "id": "ec0be7fa",
   "metadata": {
    "ExecuteTime": {
     "end_time": "2022-10-27T19:01:28.078438Z",
     "start_time": "2022-10-27T19:01:28.073133Z"
    }
   },
   "outputs": [
    {
     "data": {
      "text/plain": [
       "14540533.0"
      ]
     },
     "execution_count": 38,
     "metadata": {},
     "output_type": "execute_result"
    }
   ],
   "source": [
    "lucro = table['diference'].sum()\n",
    "lucro"
   ]
  },
  {
   "cell_type": "code",
   "execution_count": 39,
   "id": "7b7e7fa8",
   "metadata": {
    "ExecuteTime": {
     "end_time": "2022-10-27T19:01:28.088449Z",
     "start_time": "2022-10-27T19:01:28.080530Z"
    }
   },
   "outputs": [
    {
     "data": {
      "text/plain": [
       "95.56510061538646"
      ]
     },
     "execution_count": 39,
     "metadata": {},
     "output_type": "execute_result"
    }
   ],
   "source": [
    "pp = (lucro/investimento) *100\n",
    "\n",
    "pp"
   ]
  },
  {
   "cell_type": "code",
   "execution_count": 40,
   "id": "5f6eed9b",
   "metadata": {
    "ExecuteTime": {
     "end_time": "2022-10-27T19:01:28.097140Z",
     "start_time": "2022-10-27T19:01:28.092983Z"
    }
   },
   "outputs": [],
   "source": [
    "df = pd.DataFrame(table)"
   ]
  },
  {
   "cell_type": "code",
   "execution_count": 41,
   "id": "3691e351",
   "metadata": {
    "ExecuteTime": {
     "end_time": "2022-10-27T19:01:28.110175Z",
     "start_time": "2022-10-27T19:01:28.099506Z"
    }
   },
   "outputs": [],
   "source": [
    " df.to_csv('table.csv', index=False)"
   ]
  },
  {
   "cell_type": "code",
   "execution_count": null,
   "id": "9f707870",
   "metadata": {},
   "outputs": [],
   "source": []
  }
 ],
 "metadata": {
  "kernelspec": {
   "display_name": "Python 3",
   "language": "python",
   "name": "python3"
  },
  "language_info": {
   "codemirror_mode": {
    "name": "ipython",
    "version": 3
   },
   "file_extension": ".py",
   "mimetype": "text/x-python",
   "name": "python",
   "nbconvert_exporter": "python",
   "pygments_lexer": "ipython3",
   "version": "3.8.8"
  }
 },
 "nbformat": 4,
 "nbformat_minor": 5
}
